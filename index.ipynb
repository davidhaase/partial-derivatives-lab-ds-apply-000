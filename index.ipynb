{
 "cells": [
  {
   "cell_type": "markdown",
   "metadata": {},
   "source": [
    "# Partial Derivatives Lab"
   ]
  },
  {
   "cell_type": "markdown",
   "metadata": {},
   "source": [
    "### Introduction"
   ]
  },
  {
   "cell_type": "markdown",
   "metadata": {},
   "source": [
    "In this lesson, we'll get some more practice with partial derivatives."
   ]
  },
  {
   "cell_type": "markdown",
   "metadata": {},
   "source": [
    "### Breaking down multivariable functions"
   ]
  },
  {
   "cell_type": "markdown",
   "metadata": {},
   "source": [
    "In our explanation of derivatives, we discussed how taking the derivative of multivariable functions is similar to taking the derivatives of a multivariable function like $f(x)$.  In the first section we'll work up to taking the partial derivative of the multilinear function $ f(x,y) = 3xy $.  Here's what the function looks like in a 3d graph."
   ]
  },
  {
   "cell_type": "markdown",
   "metadata": {},
   "source": [
    "![](./3xy.png)"
   ]
  },
  {
   "cell_type": "markdown",
   "metadata": {},
   "source": [
    "Before we get there, let's first just first break this function down into it's equivalent of different slices, like we have done previously.  We'll do this by taking different slices of the function, stepping through various values of $y$. So instead of considering the entire function, $f(x, y) = 3xy $ we can think about the function $f(x, y)$ evaluated at various points, where $y = 1$, $y = 3$, $y = 6$, and $y = 9$.\n",
    "\n",
    "Write out Python functions that return the values $f(x, y)$ for $f(x, 1)$, $f(x, 3)$, $f(x, 6)$, and $f(x, 9)$ for the function $f(x, y) = 3xy $."
   ]
  },
  {
   "cell_type": "code",
   "execution_count": 8,
   "metadata": {},
   "outputs": [],
   "source": [
    "def three_x_y_at_one(x):\n",
    "    multiplier = 3\n",
    "    y = 1 \n",
    "    return multiplier*x*y\n",
    "\n",
    "def three_x_y_at_three(x):\n",
    "    multiplier = 3\n",
    "    y = 3 \n",
    "    return multiplier*x*y\n",
    "\n",
    "def three_x_y_at_six(x):\n",
    "    multiplier = 3\n",
    "    y = 6\n",
    "    return multiplier*x*y\n",
    "\n",
    "def three_x_y_at_nine(x):\n",
    "    multiplier = 3\n",
    "    y = 9 \n",
    "    return multiplier*x*y"
   ]
  },
  {
   "cell_type": "code",
   "execution_count": 9,
   "metadata": {},
   "outputs": [
    {
     "data": {
      "text/plain": [
       "36"
      ]
     },
     "execution_count": 9,
     "metadata": {},
     "output_type": "execute_result"
    }
   ],
   "source": [
    "three_x_y_at_one(3) # 9\n",
    "three_x_y_at_three(3)# 27\n",
    "three_x_y_at_six(1) # 18\n",
    "three_x_y_at_six(2) # 36"
   ]
  },
  {
   "cell_type": "markdown",
   "metadata": {},
   "source": [
    "Now that we have our functions written, we can write functions that provided an argument of `x_values`, return the associated `y_values` that our four functions return.  "
   ]
  },
  {
   "cell_type": "code",
   "execution_count": 10,
   "metadata": {},
   "outputs": [],
   "source": [
    "zero_to_ten = list(range(0, 11))\n",
    "zero_to_four = list(range(0, 5))\n",
    "\n",
    "def y_values_for_at_one(x_values):\n",
    "    y_values = []\n",
    "    for x_value in x_values:\n",
    "        y_values.append(three_x_y_at_one(x_value))\n",
    "    return y_values\n",
    "\n",
    "def y_values_for_at_three(x_values):\n",
    "    y_values = []\n",
    "    for x_value in x_values:\n",
    "        y_values.append(three_x_y_at_three(x_value))\n",
    "    return y_values\n",
    "\n",
    "def y_values_for_at_six(x_values):\n",
    "    y_values = []\n",
    "    for x_value in x_values:\n",
    "        y_values.append(three_x_y_at_six(x_value))\n",
    "    return y_values\n",
    "\n",
    "def y_values_for_at_nine(x_values):\n",
    "    y_values = []\n",
    "    for x_value in x_values:\n",
    "        y_values.append(three_x_y_at_nine(x_value))\n",
    "    return y_values"
   ]
  },
  {
   "cell_type": "code",
   "execution_count": 11,
   "metadata": {},
   "outputs": [
    {
     "data": {
      "text/plain": [
       "[0, 27, 54, 81, 108, 135, 162, 189, 216, 243, 270]"
      ]
     },
     "execution_count": 11,
     "metadata": {},
     "output_type": "execute_result"
    }
   ],
   "source": [
    "y_values_for_at_one(zero_to_four) # [0, 3, 6, 9, 12]\n",
    "y_values_for_at_one(zero_to_ten) # [0, 3, 6, 9, 12, 15, 18, 21, 24, 27, 30]\n",
    "\n",
    "y_values_for_at_three(zero_to_four) # [0, 9, 18, 27, 36]\n",
    "y_values_for_at_three(zero_to_ten) # [0, 9, 18, 27, 36, 45, 54, 63, 72, 81, 90]\n",
    "\n",
    "y_values_for_at_six(zero_to_four) # [0, 18, 36, 54, 72]\n",
    "y_values_for_at_six(zero_to_ten) # [0, 18, 36, 54, 72, 90, 108, 126, 144, 162, 180]\n",
    "\n",
    "y_values_for_at_nine(zero_to_four) # [0, 27, 54, 81, 108]\n",
    "y_values_for_at_nine(zero_to_ten) #[0, 27, 54, 81, 108, 135, 162, 189, 216, 243, 270]"
   ]
  },
  {
   "cell_type": "markdown",
   "metadata": {},
   "source": [
    "Now we are ready to plot the function $f(x) = x $, $f(x) = 3x $, $f(x) = 6x $ and $f(x) = 9x $"
   ]
  },
  {
   "cell_type": "code",
   "execution_count": 12,
   "metadata": {},
   "outputs": [
    {
     "data": {
      "text/html": [
       "<script>requirejs.config({paths: { 'plotly': ['https://cdn.plot.ly/plotly-latest.min']},});if(!window.Plotly) {{require(['plotly'],function(plotly) {window.Plotly=plotly;});}}</script>"
      ],
      "text/vnd.plotly.v1+html": [
       "<script>requirejs.config({paths: { 'plotly': ['https://cdn.plot.ly/plotly-latest.min']},});if(!window.Plotly) {{require(['plotly'],function(plotly) {window.Plotly=plotly;});}}</script>"
      ]
     },
     "metadata": {},
     "output_type": "display_data"
    }
   ],
   "source": [
    "from graph import trace_values\n",
    "\n",
    "y_at_one_trace = trace_values(zero_to_ten, y_values_for_at_one(zero_to_ten), mode = 'lines', name = 'f(x, y) at y=1') or {}\n",
    "\n",
    "y_at_three_trace = trace_values(zero_to_ten, y_values_for_at_three(zero_to_ten),  mode = 'lines',  name = 'f(x, y) at y=3') or {}\n",
    "\n",
    "y_at_six_trace = trace_values(zero_to_ten, y_values_for_at_six(zero_to_ten),  mode = 'lines', name = 'f(x, y) at y=6') or {}\n",
    "\n",
    "y_at_nine_trace = trace_values(zero_to_ten, y_values_for_at_nine(zero_to_ten),  mode = 'lines', name = 'f(x, y) at y=9') or {}\n"
   ]
  },
  {
   "cell_type": "code",
   "execution_count": 13,
   "metadata": {},
   "outputs": [
    {
     "data": {
      "text/html": [
       "<script>requirejs.config({paths: { 'plotly': ['https://cdn.plot.ly/plotly-latest.min']},});if(!window.Plotly) {{require(['plotly'],function(plotly) {window.Plotly=plotly;});}}</script>"
      ],
      "text/vnd.plotly.v1+html": [
       "<script>requirejs.config({paths: { 'plotly': ['https://cdn.plot.ly/plotly-latest.min']},});if(!window.Plotly) {{require(['plotly'],function(plotly) {window.Plotly=plotly;});}}</script>"
      ]
     },
     "metadata": {},
     "output_type": "display_data"
    },
    {
     "data": {
      "application/vnd.plotly.v1+json": {
       "data": [
        {
         "mode": "lines",
         "name": "f(x, y) at y=1",
         "text": [],
         "type": "scatter",
         "uid": "8b881f30-4eef-11e9-abcb-65f84cd42268",
         "x": [
          0,
          1,
          2,
          3,
          4,
          5,
          6,
          7,
          8,
          9,
          10
         ],
         "y": [
          0,
          3,
          6,
          9,
          12,
          15,
          18,
          21,
          24,
          27,
          30
         ]
        },
        {
         "mode": "lines",
         "name": "f(x, y) at y=3",
         "text": [],
         "type": "scatter",
         "uid": "8b88214c-4eef-11e9-abcb-65f84cd42268",
         "x": [
          0,
          1,
          2,
          3,
          4,
          5,
          6,
          7,
          8,
          9,
          10
         ],
         "y": [
          0,
          9,
          18,
          27,
          36,
          45,
          54,
          63,
          72,
          81,
          90
         ]
        },
        {
         "mode": "lines",
         "name": "f(x, y) at y=6",
         "text": [],
         "type": "scatter",
         "uid": "8b882228-4eef-11e9-abcb-65f84cd42268",
         "x": [
          0,
          1,
          2,
          3,
          4,
          5,
          6,
          7,
          8,
          9,
          10
         ],
         "y": [
          0,
          18,
          36,
          54,
          72,
          90,
          108,
          126,
          144,
          162,
          180
         ]
        },
        {
         "mode": "lines",
         "name": "f(x, y) at y=9",
         "text": [],
         "type": "scatter",
         "uid": "8b8822d2-4eef-11e9-abcb-65f84cd42268",
         "x": [
          0,
          1,
          2,
          3,
          4,
          5,
          6,
          7,
          8,
          9,
          10
         ],
         "y": [
          0,
          27,
          54,
          81,
          108,
          135,
          162,
          189,
          216,
          243,
          270
         ]
        }
       ],
       "layout": {
        "title": "constants with linear functions"
       }
      },
      "text/html": [
       "<div id=\"0da63bb7-db9a-4a58-ad0c-11b753f1ec74\" style=\"height: 525px; width: 100%;\" class=\"plotly-graph-div\"></div><script type=\"text/javascript\">require([\"plotly\"], function(Plotly) { window.PLOTLYENV=window.PLOTLYENV || {};window.PLOTLYENV.BASE_URL=\"https://plot.ly\";Plotly.newPlot(\"0da63bb7-db9a-4a58-ad0c-11b753f1ec74\", [{\"mode\": \"lines\", \"name\": \"f(x, y) at y=1\", \"text\": [], \"x\": [0, 1, 2, 3, 4, 5, 6, 7, 8, 9, 10], \"y\": [0, 3, 6, 9, 12, 15, 18, 21, 24, 27, 30], \"type\": \"scatter\", \"uid\": \"8b8dd9fc-4eef-11e9-abcb-65f84cd42268\"}, {\"mode\": \"lines\", \"name\": \"f(x, y) at y=3\", \"text\": [], \"x\": [0, 1, 2, 3, 4, 5, 6, 7, 8, 9, 10], \"y\": [0, 9, 18, 27, 36, 45, 54, 63, 72, 81, 90], \"type\": \"scatter\", \"uid\": \"8b8ddbf0-4eef-11e9-abcb-65f84cd42268\"}, {\"mode\": \"lines\", \"name\": \"f(x, y) at y=6\", \"text\": [], \"x\": [0, 1, 2, 3, 4, 5, 6, 7, 8, 9, 10], \"y\": [0, 18, 36, 54, 72, 90, 108, 126, 144, 162, 180], \"type\": \"scatter\", \"uid\": \"8b8ddcc2-4eef-11e9-abcb-65f84cd42268\"}, {\"mode\": \"lines\", \"name\": \"f(x, y) at y=9\", \"text\": [], \"x\": [0, 1, 2, 3, 4, 5, 6, 7, 8, 9, 10], \"y\": [0, 27, 54, 81, 108, 135, 162, 189, 216, 243, 270], \"type\": \"scatter\", \"uid\": \"8b8ddd76-4eef-11e9-abcb-65f84cd42268\"}], {\"title\": \"constants with linear functions\"}, {\"showLink\": true, \"linkText\": \"Export to plot.ly\"})});</script>"
      ],
      "text/vnd.plotly.v1+html": [
       "<div id=\"0da63bb7-db9a-4a58-ad0c-11b753f1ec74\" style=\"height: 525px; width: 100%;\" class=\"plotly-graph-div\"></div><script type=\"text/javascript\">require([\"plotly\"], function(Plotly) { window.PLOTLYENV=window.PLOTLYENV || {};window.PLOTLYENV.BASE_URL=\"https://plot.ly\";Plotly.newPlot(\"0da63bb7-db9a-4a58-ad0c-11b753f1ec74\", [{\"mode\": \"lines\", \"name\": \"f(x, y) at y=1\", \"text\": [], \"x\": [0, 1, 2, 3, 4, 5, 6, 7, 8, 9, 10], \"y\": [0, 3, 6, 9, 12, 15, 18, 21, 24, 27, 30], \"type\": \"scatter\", \"uid\": \"8b8dd9fc-4eef-11e9-abcb-65f84cd42268\"}, {\"mode\": \"lines\", \"name\": \"f(x, y) at y=3\", \"text\": [], \"x\": [0, 1, 2, 3, 4, 5, 6, 7, 8, 9, 10], \"y\": [0, 9, 18, 27, 36, 45, 54, 63, 72, 81, 90], \"type\": \"scatter\", \"uid\": \"8b8ddbf0-4eef-11e9-abcb-65f84cd42268\"}, {\"mode\": \"lines\", \"name\": \"f(x, y) at y=6\", \"text\": [], \"x\": [0, 1, 2, 3, 4, 5, 6, 7, 8, 9, 10], \"y\": [0, 18, 36, 54, 72, 90, 108, 126, 144, 162, 180], \"type\": \"scatter\", \"uid\": \"8b8ddcc2-4eef-11e9-abcb-65f84cd42268\"}, {\"mode\": \"lines\", \"name\": \"f(x, y) at y=9\", \"text\": [], \"x\": [0, 1, 2, 3, 4, 5, 6, 7, 8, 9, 10], \"y\": [0, 27, 54, 81, 108, 135, 162, 189, 216, 243, 270], \"type\": \"scatter\", \"uid\": \"8b8ddd76-4eef-11e9-abcb-65f84cd42268\"}], {\"title\": \"constants with linear functions\"}, {\"showLink\": true, \"linkText\": \"Export to plot.ly\"})});</script>"
      ]
     },
     "metadata": {},
     "output_type": "display_data"
    }
   ],
   "source": [
    "import plotly\n",
    "from plotly.graph_objs import Scatter, Layout\n",
    "from plotly.offline import init_notebook_mode, iplot\n",
    "from IPython.display import display, HTML\n",
    "\n",
    "init_notebook_mode(connected=True)\n",
    "\n",
    "fig_constants_lin_functions = {\n",
    "    \"data\": [y_at_one_trace, y_at_three_trace, y_at_six_trace, y_at_nine_trace],\n",
    "    \"layout\": Layout(title=\"constants with linear functions\")\n",
    "}\n",
    "plotly.offline.iplot(fig_constants_lin_functions)"
   ]
  },
  {
   "cell_type": "markdown",
   "metadata": {},
   "source": [
    "So as you can see, plotting our multivariable $f(x, y)$ at different values of $y$ above lines up conceptually to having one plot step through these values of $y$. "
   ]
  },
  {
   "cell_type": "markdown",
   "metadata": {},
   "source": [
    "![](./plot3xy.png)"
   ]
  },
  {
   "cell_type": "markdown",
   "metadata": {},
   "source": [
    "### Evaluating the partial derivative"
   ]
  },
  {
   "cell_type": "markdown",
   "metadata": {},
   "source": [
    "So in the above section, we saw how we can think of representing our multivariable functions as a function evaluated at different value of $y$."
   ]
  },
  {
   "cell_type": "code",
   "execution_count": 14,
   "metadata": {},
   "outputs": [
    {
     "data": {
      "application/vnd.plotly.v1+json": {
       "data": [
        {
         "mode": "lines",
         "name": "f(x, y) at y=1",
         "text": [],
         "type": "scatter",
         "uid": "8f7bbf3e-4eef-11e9-abcb-65f84cd42268",
         "x": [
          0,
          1,
          2,
          3,
          4,
          5,
          6,
          7,
          8,
          9,
          10
         ],
         "y": [
          0,
          3,
          6,
          9,
          12,
          15,
          18,
          21,
          24,
          27,
          30
         ]
        },
        {
         "mode": "lines",
         "name": "f(x, y) at y=3",
         "text": [],
         "type": "scatter",
         "uid": "8f7bc164-4eef-11e9-abcb-65f84cd42268",
         "x": [
          0,
          1,
          2,
          3,
          4,
          5,
          6,
          7,
          8,
          9,
          10
         ],
         "y": [
          0,
          9,
          18,
          27,
          36,
          45,
          54,
          63,
          72,
          81,
          90
         ]
        },
        {
         "mode": "lines",
         "name": "f(x, y) at y=6",
         "text": [],
         "type": "scatter",
         "uid": "8f7bc290-4eef-11e9-abcb-65f84cd42268",
         "x": [
          0,
          1,
          2,
          3,
          4,
          5,
          6,
          7,
          8,
          9,
          10
         ],
         "y": [
          0,
          18,
          36,
          54,
          72,
          90,
          108,
          126,
          144,
          162,
          180
         ]
        },
        {
         "mode": "lines",
         "name": "f(x, y) at y=9",
         "text": [],
         "type": "scatter",
         "uid": "8f7bc39e-4eef-11e9-abcb-65f84cd42268",
         "x": [
          0,
          1,
          2,
          3,
          4,
          5,
          6,
          7,
          8,
          9,
          10
         ],
         "y": [
          0,
          27,
          54,
          81,
          108,
          135,
          162,
          189,
          216,
          243,
          270
         ]
        }
       ],
       "layout": {
        "title": "constants with linear functions"
       }
      },
      "text/html": [
       "<div id=\"0ff5b367-712c-4c99-bc97-b641215772e1\" style=\"height: 525px; width: 100%;\" class=\"plotly-graph-div\"></div><script type=\"text/javascript\">require([\"plotly\"], function(Plotly) { window.PLOTLYENV=window.PLOTLYENV || {};window.PLOTLYENV.BASE_URL=\"https://plot.ly\";Plotly.newPlot(\"0ff5b367-712c-4c99-bc97-b641215772e1\", [{\"mode\": \"lines\", \"name\": \"f(x, y) at y=1\", \"text\": [], \"x\": [0, 1, 2, 3, 4, 5, 6, 7, 8, 9, 10], \"y\": [0, 3, 6, 9, 12, 15, 18, 21, 24, 27, 30], \"type\": \"scatter\", \"uid\": \"8f8c4bba-4eef-11e9-abcb-65f84cd42268\"}, {\"mode\": \"lines\", \"name\": \"f(x, y) at y=3\", \"text\": [], \"x\": [0, 1, 2, 3, 4, 5, 6, 7, 8, 9, 10], \"y\": [0, 9, 18, 27, 36, 45, 54, 63, 72, 81, 90], \"type\": \"scatter\", \"uid\": \"8f8c4d72-4eef-11e9-abcb-65f84cd42268\"}, {\"mode\": \"lines\", \"name\": \"f(x, y) at y=6\", \"text\": [], \"x\": [0, 1, 2, 3, 4, 5, 6, 7, 8, 9, 10], \"y\": [0, 18, 36, 54, 72, 90, 108, 126, 144, 162, 180], \"type\": \"scatter\", \"uid\": \"8f8c4e4e-4eef-11e9-abcb-65f84cd42268\"}, {\"mode\": \"lines\", \"name\": \"f(x, y) at y=9\", \"text\": [], \"x\": [0, 1, 2, 3, 4, 5, 6, 7, 8, 9, 10], \"y\": [0, 27, 54, 81, 108, 135, 162, 189, 216, 243, 270], \"type\": \"scatter\", \"uid\": \"8f8c4ef8-4eef-11e9-abcb-65f84cd42268\"}], {\"title\": \"constants with linear functions\"}, {\"showLink\": true, \"linkText\": \"Export to plot.ly\"})});</script>"
      ],
      "text/vnd.plotly.v1+html": [
       "<div id=\"0ff5b367-712c-4c99-bc97-b641215772e1\" style=\"height: 525px; width: 100%;\" class=\"plotly-graph-div\"></div><script type=\"text/javascript\">require([\"plotly\"], function(Plotly) { window.PLOTLYENV=window.PLOTLYENV || {};window.PLOTLYENV.BASE_URL=\"https://plot.ly\";Plotly.newPlot(\"0ff5b367-712c-4c99-bc97-b641215772e1\", [{\"mode\": \"lines\", \"name\": \"f(x, y) at y=1\", \"text\": [], \"x\": [0, 1, 2, 3, 4, 5, 6, 7, 8, 9, 10], \"y\": [0, 3, 6, 9, 12, 15, 18, 21, 24, 27, 30], \"type\": \"scatter\", \"uid\": \"8f8c4bba-4eef-11e9-abcb-65f84cd42268\"}, {\"mode\": \"lines\", \"name\": \"f(x, y) at y=3\", \"text\": [], \"x\": [0, 1, 2, 3, 4, 5, 6, 7, 8, 9, 10], \"y\": [0, 9, 18, 27, 36, 45, 54, 63, 72, 81, 90], \"type\": \"scatter\", \"uid\": \"8f8c4d72-4eef-11e9-abcb-65f84cd42268\"}, {\"mode\": \"lines\", \"name\": \"f(x, y) at y=6\", \"text\": [], \"x\": [0, 1, 2, 3, 4, 5, 6, 7, 8, 9, 10], \"y\": [0, 18, 36, 54, 72, 90, 108, 126, 144, 162, 180], \"type\": \"scatter\", \"uid\": \"8f8c4e4e-4eef-11e9-abcb-65f84cd42268\"}, {\"mode\": \"lines\", \"name\": \"f(x, y) at y=9\", \"text\": [], \"x\": [0, 1, 2, 3, 4, 5, 6, 7, 8, 9, 10], \"y\": [0, 27, 54, 81, 108, 135, 162, 189, 216, 243, 270], \"type\": \"scatter\", \"uid\": \"8f8c4ef8-4eef-11e9-abcb-65f84cd42268\"}], {\"title\": \"constants with linear functions\"}, {\"showLink\": true, \"linkText\": \"Export to plot.ly\"})});</script>"
      ]
     },
     "metadata": {},
     "output_type": "display_data"
    }
   ],
   "source": [
    "plotly.offline.iplot(fig_constants_lin_functions)"
   ]
  },
  {
   "cell_type": "markdown",
   "metadata": {},
   "source": [
    "Now let's think of how to take the derivative of our $ \\frac{\\delta f}{\\delta x} f(x, y)$ at values of $y$.  Knowing how to think about partial derivatives of multivarivable functions, what is $ \\frac{\\delta f}{\\delta x} $ at the following values of $y$."
   ]
  },
  {
   "cell_type": "code",
   "execution_count": 15,
   "metadata": {},
   "outputs": [
    {
     "name": "stdout",
     "output_type": "stream",
     "text": [
      "(3, 0)\n"
     ]
    }
   ],
   "source": [
    "def find_term_derivative(term):\n",
    "    derivative = None\n",
    "    (multiplier, exponent) = term\n",
    "    if (exponent):\n",
    "        derive_multi = exponent*multiplier\n",
    "        derive_expo = exponent - 1\n",
    "        derivative = (exponent*multiplier, exponent - 1)\n",
    "    return derivative\n",
    "\n",
    "def df_dx_when_y_equals_one():\n",
    "    #f(x,y) = 3xy\n",
    "    multiplier = 3\n",
    "    y = 1\n",
    "    x_expo = 1\n",
    "    x = (multiplier*y, x_expo)\n",
    "    print (find_term_derivative(x))\n",
    "    return\n",
    "\n",
    "df_dx_when_y_equals_one()"
   ]
  },
  {
   "cell_type": "code",
   "execution_count": 16,
   "metadata": {},
   "outputs": [
    {
     "name": "stdout",
     "output_type": "stream",
     "text": [
      "(9, 0)\n"
     ]
    }
   ],
   "source": [
    "def df_dx_when_y_equals_three():\n",
    "    #f(x,y) = 3xy\n",
    "    multiplier = 3\n",
    "    y = 3\n",
    "    x_expo = 1\n",
    "    x = (multiplier*y, x_expo)\n",
    "    print (find_term_derivative(x))\n",
    "    return\n",
    "df_dx_when_y_equals_three()"
   ]
  },
  {
   "cell_type": "code",
   "execution_count": 17,
   "metadata": {},
   "outputs": [
    {
     "name": "stdout",
     "output_type": "stream",
     "text": [
      "(18, 0)\n"
     ]
    }
   ],
   "source": [
    "def df_dx_when_y_equals_six():\n",
    "    #f(x,y) = 3xy\n",
    "    multiplier = 3\n",
    "    y = 6\n",
    "    x_expo = 1\n",
    "    x = (multiplier*y, x_expo)\n",
    "    print (find_term_derivative(x))\n",
    "    return\n",
    "df_dx_when_y_equals_six()"
   ]
  },
  {
   "cell_type": "code",
   "execution_count": 18,
   "metadata": {},
   "outputs": [
    {
     "name": "stdout",
     "output_type": "stream",
     "text": [
      "(27, 0)\n"
     ]
    }
   ],
   "source": [
    "def df_dx_when_y_equals_nine():\n",
    "    #f(x,y) = 3xy\n",
    "    multiplier = 3\n",
    "    y = 9\n",
    "    x_expo = 1\n",
    "    x = (multiplier*y, x_expo)\n",
    "    print (find_term_derivative(x))\n",
    "    return\n",
    "df_dx_when_y_equals_nine()"
   ]
  },
  {
   "cell_type": "markdown",
   "metadata": {},
   "source": [
    "So notice that there is a pattern here, in taking $ \\frac{\\delta f}{\\delta x}$ for our function $f(x, y) = 3xy$.  Now write a function that calculates $ \\frac{\\delta f}{\\delta x}$ for our function $f(x,y)$ at any provided $x$ and $y$ value. "
   ]
  },
  {
   "cell_type": "code",
   "execution_count": 19,
   "metadata": {},
   "outputs": [],
   "source": [
    "def df_dx_3xy(x_value, y_value):\n",
    "    #f(x,y) = 3xy\n",
    "    multiplier = 3\n",
    "    y = y_value\n",
    "    x_expo = 1\n",
    "    x = (multiplier*y, x_expo)\n",
    "    print (find_term_derivative(x))\n",
    "    return"
   ]
  },
  {
   "cell_type": "code",
   "execution_count": 20,
   "metadata": {},
   "outputs": [
    {
     "name": "stdout",
     "output_type": "stream",
     "text": [
      "(3, 0)\n"
     ]
    }
   ],
   "source": [
    "df_dx_3xy(2, 1) # 3"
   ]
  },
  {
   "cell_type": "code",
   "execution_count": 21,
   "metadata": {},
   "outputs": [
    {
     "name": "stdout",
     "output_type": "stream",
     "text": [
      "(6, 0)\n"
     ]
    }
   ],
   "source": [
    "df_dx_3xy(2, 2) # 6"
   ]
  },
  {
   "cell_type": "code",
   "execution_count": 22,
   "metadata": {},
   "outputs": [
    {
     "name": "stdout",
     "output_type": "stream",
     "text": [
      "(6, 0)\n"
     ]
    }
   ],
   "source": [
    "df_dx_3xy(5, 2) # 6"
   ]
  },
  {
   "cell_type": "markdown",
   "metadata": {},
   "source": [
    "So as you can see, our $y$ value influences the function, and from there it's a calculation of $\\frac{\\Delta f}{\\Delta x}$, which in this case is constant."
   ]
  },
  {
   "cell_type": "markdown",
   "metadata": {},
   "source": [
    "## Using our partial derivative rule"
   ]
  },
  {
   "cell_type": "markdown",
   "metadata": {
    "collapsed": true
   },
   "source": [
    "Now let's consider the function $ f(x, y) = 4x^2y + 3x + y$.  Now soon we will want to take the derivative of this function with respect to $x$.  We know that in doing something like that, we will need to translate this function into code, and that when we do so, we will need to capture the exponent of any terms as well as."
   ]
  },
  {
   "cell_type": "markdown",
   "metadata": {},
   "source": [
    "Remember that the way we expressed a single variable function, $f(x)$ in Python was to represent the constant, and $x$ exponent for each term.  For example, the function $f(x) = 3x^2 + 2x$ can be represented as the following:"
   ]
  },
  {
   "cell_type": "code",
   "execution_count": 23,
   "metadata": {},
   "outputs": [],
   "source": [
    "three_x_squared_plus_two_x = [(3, 2), (2, 1)]"
   ]
  },
  {
   "cell_type": "markdown",
   "metadata": {},
   "source": [
    "Now let's talk about representing our multivariable function $ f(x, y) =4x^2y + 3x + y$ in Python.  Instead of using a tuple with two elements, we'll use a tuple with three elements and with that third element the exponent related to the $y$ variable.  So our function $ f(x, y) = 4x^2y + 3x  + y$ looks like the following:"
   ]
  },
  {
   "cell_type": "code",
   "execution_count": 24,
   "metadata": {},
   "outputs": [],
   "source": [
    "four_x_squared_y_plus_three_x_plus_y = [(4, 2, 1), (3, 1, 0), (1, 0, 1)]"
   ]
  },
  {
   "cell_type": "markdown",
   "metadata": {},
   "source": [
    "Let's get started by writing a function `multivariable_output_at` that takes in a multivariable function and returns the value $f(x, y)$ evaluated at a specific value of $x$ and $y$ for the function."
   ]
  },
  {
   "cell_type": "code",
   "execution_count": 25,
   "metadata": {},
   "outputs": [],
   "source": [
    "def multivariable_output_at(list_of_terms, x_value, y_value):\n",
    "    output = []\n",
    "    for term in list_of_terms:\n",
    "        (multiplier, x_expo, y_expo) = term\n",
    "        output.append(multiplier*(x_value**x_expo)*(y_value**y_expo))\n",
    "    \n",
    "    if (len(output) > 0):\n",
    "        value = 0\n",
    "        for item in output:\n",
    "            value += item\n",
    "            \n",
    "        return value\n",
    "    else:\n",
    "        return None"
   ]
  },
  {
   "cell_type": "code",
   "execution_count": 26,
   "metadata": {},
   "outputs": [
    {
     "data": {
      "text/plain": [
       "8"
      ]
     },
     "execution_count": 26,
     "metadata": {},
     "output_type": "execute_result"
    }
   ],
   "source": [
    "multivariable_output_at(four_x_squared_y_plus_three_x_plus_y, 1, 1) # 8"
   ]
  },
  {
   "cell_type": "code",
   "execution_count": 27,
   "metadata": {},
   "outputs": [
    {
     "data": {
      "text/plain": [
       "40"
      ]
     },
     "execution_count": 27,
     "metadata": {},
     "output_type": "execute_result"
    }
   ],
   "source": [
    "multivariable_output_at(four_x_squared_y_plus_three_x_plus_y, 2, 2) # 40"
   ]
  },
  {
   "cell_type": "markdown",
   "metadata": {},
   "source": [
    "Let's also try this with another function $g(x, y) = 2x^3y + 3yx + x $."
   ]
  },
  {
   "cell_type": "code",
   "execution_count": 28,
   "metadata": {},
   "outputs": [],
   "source": [
    "two_x_cubed_y_plus_three_y_x_plus_x = [(2, 3, 1), (3, 1, 1), (1, 1, 0)]"
   ]
  },
  {
   "cell_type": "code",
   "execution_count": 29,
   "metadata": {},
   "outputs": [
    {
     "data": {
      "text/plain": [
       "6"
      ]
     },
     "execution_count": 29,
     "metadata": {},
     "output_type": "execute_result"
    }
   ],
   "source": [
    "multivariable_output_at(two_x_cubed_y_plus_three_y_x_plus_x, 1, 1) # 6"
   ]
  },
  {
   "cell_type": "code",
   "execution_count": 30,
   "metadata": {},
   "outputs": [
    {
     "data": {
      "text/plain": [
       "46"
      ]
     },
     "execution_count": 30,
     "metadata": {},
     "output_type": "execute_result"
    }
   ],
   "source": [
    "multivariable_output_at(two_x_cubed_y_plus_three_y_x_plus_x, 2, 2) # 46"
   ]
  },
  {
   "cell_type": "markdown",
   "metadata": {},
   "source": [
    "So now we want to write a Python function that calculates $\\frac{\\delta f}{\\delta x}$ of a multivariable function.  Let's start by writing a function that just calculates $\\frac{\\delta f}{\\delta x}$ of a single term."
   ]
  },
  {
   "cell_type": "code",
   "execution_count": 31,
   "metadata": {},
   "outputs": [],
   "source": [
    "def term_df_dx(term):\n",
    "    (multiplier, x_expo, y_expo) = term\n",
    "    d_multiplier = x_expo*multiplier\n",
    "    dx_expo = x_expo - 1\n",
    "    return (d_multiplier, dx_expo, y_expo)"
   ]
  },
  {
   "cell_type": "code",
   "execution_count": 32,
   "metadata": {},
   "outputs": [
    {
     "data": {
      "text/plain": [
       "(8, 1, 1)"
      ]
     },
     "execution_count": 32,
     "metadata": {},
     "output_type": "execute_result"
    }
   ],
   "source": [
    "four_x_squared_y = (4, 2, 1)\n",
    "term_df_dx(four_x_squared_y) # (8, 1, 1) "
   ]
  },
  {
   "cell_type": "markdown",
   "metadata": {},
   "source": [
    "> This solution represents $8xy$"
   ]
  },
  {
   "cell_type": "code",
   "execution_count": 33,
   "metadata": {},
   "outputs": [
    {
     "data": {
      "text/plain": [
       "(0, -1, 1)"
      ]
     },
     "execution_count": 33,
     "metadata": {},
     "output_type": "execute_result"
    }
   ],
   "source": [
    "y = (1, 0, 1)\n",
    "term_df_dx(y) # (0, -1, 1)"
   ]
  },
  {
   "cell_type": "markdown",
   "metadata": {},
   "source": [
    "> This solution represents $0$, as the first element indicates we are multiplying the term by zero."
   ]
  },
  {
   "cell_type": "markdown",
   "metadata": {},
   "source": [
    "Now write a function that finds the derivative of all terms, $\\frac{\\delta f}{\\delta x}$ of a function $f(x, y)$."
   ]
  },
  {
   "cell_type": "code",
   "execution_count": 34,
   "metadata": {},
   "outputs": [],
   "source": [
    "def df_dx(list_of_terms):\n",
    "    derivatives = []\n",
    "    for term in list_of_terms:\n",
    "        derivative = term_df_dx(term)\n",
    "        if (derivative[0] is not 0):\n",
    "            derivatives.append(derivative)\n",
    "    return derivatives\n",
    "        "
   ]
  },
  {
   "cell_type": "code",
   "execution_count": 35,
   "metadata": {},
   "outputs": [
    {
     "data": {
      "text/plain": [
       "[(8, 1, 1), (3, 0, 0)]"
      ]
     },
     "execution_count": 35,
     "metadata": {},
     "output_type": "execute_result"
    }
   ],
   "source": [
    "df_dx(four_x_squared_y_plus_three_x_plus_y) # [(8, 1, 1), (3, 0, 0)]"
   ]
  },
  {
   "cell_type": "markdown",
   "metadata": {},
   "source": [
    "Now that we have done this for $\\frac{\\delta f}{\\delta x}$, lets work on taking the derivative $\\frac{\\delta f}{\\delta y}$.  Once again, we can use as an example our function $ f(x, y) = 4x^2y + 3x + y$.  Let's start with writing the function `term_df_dy`, which takes the partial derivative $\\frac{\\delta f}{\\delta y}$ of a single term."
   ]
  },
  {
   "cell_type": "code",
   "execution_count": 36,
   "metadata": {},
   "outputs": [],
   "source": [
    "def term_df_dy(term):\n",
    "    (multiplier, x_expo, y_expo) = term\n",
    "    d_multiplier = y_expo*multiplier\n",
    "    dy_expo = y_expo - 1\n",
    "    return (d_multiplier, x_expo, dy_expo)"
   ]
  },
  {
   "cell_type": "code",
   "execution_count": 37,
   "metadata": {},
   "outputs": [
    {
     "data": {
      "text/plain": [
       "(4, 2, 1)"
      ]
     },
     "execution_count": 37,
     "metadata": {},
     "output_type": "execute_result"
    }
   ],
   "source": [
    "four_x_squared_y # (4, 2, 1)"
   ]
  },
  {
   "cell_type": "code",
   "execution_count": 38,
   "metadata": {},
   "outputs": [
    {
     "data": {
      "text/plain": [
       "(4, 2, 0)"
      ]
     },
     "execution_count": 38,
     "metadata": {},
     "output_type": "execute_result"
    }
   ],
   "source": [
    "term_df_dy(four_x_squared_y) # (4, 2, 0)"
   ]
  },
  {
   "cell_type": "markdown",
   "metadata": {},
   "source": [
    "> This represents that $\\frac{\\delta f}{\\delta y}4x^2y = 4x^2$"
   ]
  },
  {
   "cell_type": "code",
   "execution_count": 39,
   "metadata": {},
   "outputs": [
    {
     "data": {
      "text/plain": [
       "(1, 0, 0)"
      ]
     },
     "execution_count": 39,
     "metadata": {},
     "output_type": "execute_result"
    }
   ],
   "source": [
    "term_df_dy(y) # (1, 0, 0)"
   ]
  },
  {
   "cell_type": "markdown",
   "metadata": {},
   "source": [
    "> This represents that $\\frac{\\delta f}{\\delta y}y = 1$"
   ]
  },
  {
   "cell_type": "code",
   "execution_count": 40,
   "metadata": {},
   "outputs": [
    {
     "data": {
      "text/plain": [
       "(0, 1, -1)"
      ]
     },
     "execution_count": 40,
     "metadata": {},
     "output_type": "execute_result"
    }
   ],
   "source": [
    "three_x = four_x_squared_y_plus_three_x_plus_y[1]\n",
    "term_df_dy(three_x) # (0, 1, -1)"
   ]
  },
  {
   "cell_type": "markdown",
   "metadata": {},
   "source": [
    "> This represents that $\\frac{\\delta f}{\\delta y}3x = 0$"
   ]
  },
  {
   "cell_type": "markdown",
   "metadata": {},
   "source": [
    "Now let's write a function `df_dy` that takes multiple terms and returns an list of tuples that represent the derivative of our multivariable function.  So here is our function: $ f(x, y) = 4x^2y + 3x + y$."
   ]
  },
  {
   "cell_type": "code",
   "execution_count": 41,
   "metadata": {},
   "outputs": [
    {
     "data": {
      "text/plain": [
       "[(4, 2, 1), (3, 1, 0), (1, 0, 1)]"
      ]
     },
     "execution_count": 41,
     "metadata": {},
     "output_type": "execute_result"
    }
   ],
   "source": [
    "four_x_squared_y_plus_three_x_plus_y"
   ]
  },
  {
   "cell_type": "code",
   "execution_count": 42,
   "metadata": {},
   "outputs": [],
   "source": [
    "def df_dy(list_of_terms):\n",
    "    derivatives = []\n",
    "    for term in list_of_terms:\n",
    "        derivative = term_df_dy(term)\n",
    "        if (derivative[0] is not 0):\n",
    "            derivatives.append(derivative)\n",
    "    return derivatives"
   ]
  },
  {
   "cell_type": "code",
   "execution_count": 43,
   "metadata": {},
   "outputs": [
    {
     "data": {
      "text/plain": [
       "[(4, 2, 0), (1, 0, 0)]"
      ]
     },
     "execution_count": 43,
     "metadata": {},
     "output_type": "execute_result"
    }
   ],
   "source": [
    "df_dy(four_x_squared_y_plus_three_x_plus_y) # [(4, 2, 0), (1, 0, 0)]"
   ]
  },
  {
   "cell_type": "code",
   "execution_count": 44,
   "metadata": {},
   "outputs": [
    {
     "data": {
      "text/plain": [
       "[(2, 3, 0), (3, 1, 0)]"
      ]
     },
     "execution_count": 44,
     "metadata": {},
     "output_type": "execute_result"
    }
   ],
   "source": [
    "two_x_cubed_y_plus_three_y_x_plus_x = [(2, 3, 1), (3, 1, 1), (1, 1, 0)]\n",
    "df_dy(two_x_cubed_y_plus_three_y_x_plus_x) # [(2, 3, 0), (3, 1, 0)]"
   ]
  },
  {
   "cell_type": "markdown",
   "metadata": {},
   "source": [
    "Great job! Hopefully, now you understand a little more about multivariable functions and derivatives!"
   ]
  },
  {
   "cell_type": "code",
   "execution_count": 45,
   "metadata": {},
   "outputs": [
    {
     "name": "stdout",
     "output_type": "stream",
     "text": [
      "[(4, 2, 0)]\n",
      "[(8, 1, 1), (3, 0, 0)]\n"
     ]
    }
   ],
   "source": [
    "class Polynomial:\n",
    "    def __init__(self, list_of_terms):\n",
    "        self.list_of_terms = list_of_terms\n",
    "        \n",
    "    def term_df_dy(self, term):\n",
    "        (multiplier, x_expo, y_expo) = term\n",
    "        d_multiplier = y_expo*multiplier\n",
    "        dy_expo = y_expo - 1\n",
    "        return (d_multiplier, x_expo, dy_expo)\n",
    "    def term_df_dx(self, term):\n",
    "        (multiplier, x_expo, y_expo) = term\n",
    "        d_multiplier = x_expo*multiplier\n",
    "        dx_expo = x_expo - 1\n",
    "        return (d_multiplier, dx_expo, y_expo)\n",
    "    def df_dy(self):\n",
    "        derivatives = []\n",
    "        for term in self.list_of_terms:\n",
    "            derivative = self.term_df_dy(term)\n",
    "            if (derivative[0] is not 0):\n",
    "                derivatives.append(derivative)\n",
    "        return derivatives\n",
    "    \n",
    "    def df_dx(self):\n",
    "        derivatives = []\n",
    "        for term in self.list_of_terms:\n",
    "            derivative = self.term_df_dx(term)\n",
    "            if (derivative[0] is not 0):\n",
    "                derivatives.append(derivative)\n",
    "        return derivatives\n",
    "    \n",
    "    def plot(self, x_range):\n",
    "        import plotly\n",
    "        plotly.offline.init_notebook_mode(connected=True)\n",
    "\n",
    "        trace = {'x': [], 'y': [], 'text': [], 'type': 'bar'}\n",
    "        plotly.offline.iplot([trace])\n",
    "    \n",
    "four_x_squared_plus_three_x = [(4, 2, 1), (3, 1, 0)]\n",
    "my_poly = Polynomial(four_x_squared_plus_three_x)\n",
    "print (my_poly.df_dy())\n",
    "print (my_poly.df_dx())\n",
    "    \n",
    "        \n"
   ]
  },
  {
   "cell_type": "code",
   "execution_count": null,
   "metadata": {},
   "outputs": [],
   "source": []
  }
 ],
 "metadata": {
  "kernelspec": {
   "display_name": "Python 3",
   "language": "python",
   "name": "python3"
  },
  "language_info": {
   "codemirror_mode": {
    "name": "ipython",
    "version": 3
   },
   "file_extension": ".py",
   "mimetype": "text/x-python",
   "name": "python",
   "nbconvert_exporter": "python",
   "pygments_lexer": "ipython3",
   "version": "3.6.6"
  }
 },
 "nbformat": 4,
 "nbformat_minor": 2
}
